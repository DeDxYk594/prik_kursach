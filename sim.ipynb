{
 "cells": [
  {
   "cell_type": "code",
   "execution_count": 13,
   "metadata": {},
   "outputs": [
    {
     "name": "stdout",
     "output_type": "stream",
     "text": [
      "The autoreload extension is already loaded. To reload it, use:\n",
      "  %reload_ext autoreload\n"
     ]
    }
   ],
   "source": [
    "%load_ext autoreload\n",
    "%autoreload 2\n",
    "\n",
    "import numpy as np\n",
    "from generateGif import create_animated_png,create_animated_gif\n",
    "from geom import find_point_C"
   ]
  },
  {
   "cell_type": "code",
   "execution_count": 14,
   "metadata": {},
   "outputs": [],
   "source": [
    "class SimulationParams:\n",
    "    DA_x:float\n",
    "    DA_y:float\n",
    "    AB_length:float\n",
    "    DC_length:float\n",
    "    BC_length:float"
   ]
  },
  {
   "cell_type": "code",
   "execution_count": 17,
   "metadata": {},
   "outputs": [],
   "source": [
    "def sim(params: SimulationParams):\n",
    "    \"\"\"\n",
    "    Делает симуляцию\n",
    "    Параметры:\n",
    "    offset (tuple или list): Вектор смещения центра вращения (x0, y0).\n",
    "    length (float): Длина отрезка.\n",
    "\n",
    "    Возвращает:\n",
    "    X (numpy.ndarray): Матрица координат X размером (360, 6).\n",
    "    Y (numpy.ndarray): Матрица координат Y размером (360, 6).\n",
    "    Порядок точек по столбцам: A, B, C, D, E, F\n",
    "    \"\"\"\n",
    "    A_x = params.DA_x\n",
    "    A_y = params.DA_y\n",
    "    AB_length = params.AB_length\n",
    "    углы = np.deg2rad(np.arange(0, 360))  # Углы в радианах от 0 до 359 градусов\n",
    "\n",
    "    x_A = np.full(360, A_x)\n",
    "    y_A = np.full(360, A_y)\n",
    "\n",
    "    x_B = A_x + AB_length * np.cos(углы)\n",
    "    y_B = A_y + AB_length * np.sin(углы)\n",
    "\n",
    "    x_C=np.zeros((360))\n",
    "    y_C=np.zeros((360))\n",
    "\n",
    "    # Создаем матрицы с повторяющимися координатами центра и вычисленными концами\n",
    "    X = np.column_stack((x_A, x_B))\n",
    "    Y = np.column_stack((y_A, y_B))\n",
    "\n",
    "    return X, Y"
   ]
  },
  {
   "cell_type": "code",
   "execution_count": 18,
   "metadata": {},
   "outputs": [
    {
     "name": "stdout",
     "output_type": "stream",
     "text": [
      "Анимированный GIF сохранен как tests.gif.\n"
     ]
    }
   ],
   "source": [
    "params = SimulationParams()\n",
    "params.AB_length = 1\n",
    "params.DC_length = 3\n",
    "params.BC_length = 4\n",
    "params.DA_x = 4\n",
    "params.DA_y = 1\n",
    "\n",
    "X, Y = sim(params)\n",
    "create_animated_gif(X, Y, [0], [1], \"tests.gif\", 3000)"
   ]
  }
 ],
 "metadata": {
  "kernelspec": {
   "display_name": "Python 3",
   "language": "python",
   "name": "python3"
  },
  "language_info": {
   "codemirror_mode": {
    "name": "ipython",
    "version": 3
   },
   "file_extension": ".py",
   "mimetype": "text/x-python",
   "name": "python",
   "nbconvert_exporter": "python",
   "pygments_lexer": "ipython3",
   "version": "3.12.6"
  }
 },
 "nbformat": 4,
 "nbformat_minor": 2
}
