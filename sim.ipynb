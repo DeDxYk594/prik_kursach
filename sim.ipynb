{
 "cells": [
  {
   "cell_type": "code",
   "execution_count": 2,
   "metadata": {},
   "outputs": [
    {
     "name": "stdout",
     "output_type": "stream",
     "text": [
      "The autoreload extension is already loaded. To reload it, use:\n",
      "  %reload_ext autoreload\n"
     ]
    }
   ],
   "source": [
    "%load_ext autoreload\n",
    "%autoreload 2\n",
    "\n",
    "import numpy as np\n",
    "from generateGif import create_animated_gif\n",
    "from geom import find_point_C\n",
    "import math"
   ]
  },
  {
   "cell_type": "code",
   "execution_count": 3,
   "metadata": {},
   "outputs": [],
   "source": [
    "class SimulationParams:\n",
    "    DA_x: float\n",
    "    DA_y: float\n",
    "    AB_length: float\n",
    "    DC_length: float\n",
    "    BC_length: float\n",
    "    CE_length: float\n",
    "    BCE_inner_angle: float\n",
    "    alpha_angle: float"
   ]
  },
  {
   "cell_type": "code",
   "execution_count": 4,
   "metadata": {},
   "outputs": [],
   "source": [
    "def sim(params: SimulationParams):\n",
    "    \"\"\"\n",
    "    Делает симуляцию\n",
    "    Параметры:\n",
    "    offset (tuple или list): Вектор смещения центра вращения (x0, y0).\n",
    "    length (float): Длина отрезка.\n",
    "\n",
    "    Возвращает:\n",
    "    X (numpy.ndarray): Матрица координат X размером (360, 6).\n",
    "    Y (numpy.ndarray): Матрица координат Y размером (360, 6).\n",
    "    Порядок точек по столбцам: A, B, C, D, E, F\n",
    "    \"\"\"\n",
    "    A_x = params.DA_x\n",
    "    A_y = params.DA_y\n",
    "    AB_length = params.AB_length\n",
    "    углы = np.deg2rad(np.arange(0, 360))  # Углы в радианах от 0 до 359 градусов\n",
    "\n",
    "    x_A = np.full(360, A_x)\n",
    "    y_A = np.full(360, A_y)\n",
    "\n",
    "    x_B = A_x + AB_length * np.cos(углы)\n",
    "    y_B = A_y + AB_length * np.sin(углы)\n",
    "\n",
    "    x_C = np.zeros((360))\n",
    "    y_C = np.zeros((360))\n",
    "\n",
    "    x_D = np.full(360, 0)\n",
    "    y_D = np.full(360, 0)\n",
    "\n",
    "    C_init = find_point_C(params.DC_length, (x_B[0], y_B[0]), params.BC_length)\n",
    "    x_C[0] = C_init[0]\n",
    "    y_C[0] = C_init[1]\n",
    "\n",
    "    for i in range(1, 360):\n",
    "        prevC = (x_C[i - 1], y_C[i - 1])\n",
    "        C_this = find_point_C(\n",
    "            params.DC_length, (x_B[i], y_B[i]), params.BC_length, prevIteration=prevC\n",
    "        )\n",
    "        x_C[i] = C_this[0]\n",
    "        y_C[i] = C_this[1]\n",
    "\n",
    "    x_E = np.zeros((360))\n",
    "    x_E = np.zeros((360))\n",
    "\n",
    "    x_BC_e = x_C - x_B\n",
    "    y_BC_e = y_C - y_B\n",
    "    x_BC_e /= params.BC_length\n",
    "    y_BC_e /= params.BC_length\n",
    "\n",
    "    x_CE_e = x_BC_e * math.cos(params.BCE_inner_angle) + y_BC_e * math.sin(\n",
    "        params.BCE_inner_angle\n",
    "    )\n",
    "\n",
    "    y_CE_e = -x_BC_e * math.sin(params.BCE_inner_angle) + y_BC_e * math.cos(\n",
    "        params.BCE_inner_angle\n",
    "    )\n",
    "\n",
    "    x_CE = x_CE_e * params.CE_length\n",
    "    y_CE = y_CE_e * params.CE_length\n",
    "\n",
    "    x_E = x_C + x_CE\n",
    "    y_E = y_C + y_CE\n",
    "\n",
    "    x_F = np.zeros((360))\n",
    "    y_F = x_E * math.sin(-params.alpha_angle) + y_E * math.cos(-params.alpha_angle)\n",
    "\n",
    "    # Создаем матрицы с повторяющимися координатами центра и вычисленными концами\n",
    "    X = np.column_stack((x_A, x_B, x_C, x_D, x_E, x_F))\n",
    "    Y = np.column_stack((y_A, y_B, y_C, y_D, y_E, y_F))\n",
    "\n",
    "    return X, Y"
   ]
  },
  {
   "cell_type": "code",
   "execution_count": 41,
   "metadata": {},
   "outputs": [
    {
     "name": "stdout",
     "output_type": "stream",
     "text": [
      "Анимированный GIF сохранен как tests.gif.\n"
     ]
    }
   ],
   "source": [
    "params = SimulationParams()\n",
    "params.AB_length = 1.1\n",
    "params.DC_length = 2.2\n",
    "params.BC_length = 3.2\n",
    "params.DA_x = 0\n",
    "params.DA_y = 3\n",
    "params.BCE_inner_angle = 0.5  # радиан\n",
    "params.CE_length = 1\n",
    "params.alpha_angle = 0.2  # радиан\n",
    "\n",
    "X, Y = sim(params)\n",
    "create_animated_gif(X, Y, [0, 1, 2, 2, 4], [1, 2, 3, 4, 5], \"tests.gif\", 3000)"
   ]
  }
 ],
 "metadata": {
  "kernelspec": {
   "display_name": "Python 3",
   "language": "python",
   "name": "python3"
  },
  "language_info": {
   "codemirror_mode": {
    "name": "ipython",
    "version": 3
   },
   "file_extension": ".py",
   "mimetype": "text/x-python",
   "name": "python",
   "nbconvert_exporter": "python",
   "pygments_lexer": "ipython3",
   "version": "3.12.6"
  }
 },
 "nbformat": 4,
 "nbformat_minor": 2
}
