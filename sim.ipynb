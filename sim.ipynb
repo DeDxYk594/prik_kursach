{
 "cells": [
  {
   "cell_type": "code",
   "execution_count": 1,
   "metadata": {},
   "outputs": [],
   "source": [
    "%load_ext autoreload\n",
    "%autoreload 2\n",
    "\n",
    "import numpy as np\n",
    "from generateGif import create_animated_gif\n",
    "from geom import find_point_C\n",
    "import random\n",
    "import math\n",
    "from simulation import SimulationParams, sim\n",
    "from scipy.optimize import minimize\n",
    "from targetFunction import targetFunction"
   ]
  },
  {
   "cell_type": "code",
   "execution_count": 2,
   "metadata": {},
   "outputs": [
    {
     "name": "stdout",
     "output_type": "stream",
     "text": [
      "Анимированный GIF сохранен как tests.gif.\n"
     ]
    }
   ],
   "source": [
    "params = SimulationParams()\n",
    "params.AB_length = 1.1\n",
    "params.DC_length = 2.2\n",
    "params.BC_length = 3.2\n",
    "params.DA_x = 0\n",
    "params.DA_y = 3\n",
    "params.BCE_inner_angle = 0.5  # радиан\n",
    "params.CE_length = 1\n",
    "params.alpha_angle = 0.2  # радиан\n",
    "\n",
    "X, Y = sim(params)\n",
    "create_animated_gif(\n",
    "    X,\n",
    "    Y,\n",
    "    [0, 1, 2, 2, 4, 5],\n",
    "    [1, 2, 3, 4, 5, 6],\n",
    "    \"tests.gif\",\n",
    "    3000,\n",
    "    text=\"Проверка генерации гифки на основе результатов симуляции\",\n",
    ")"
   ]
  },
  {
   "cell_type": "code",
   "execution_count": 3,
   "metadata": {},
   "outputs": [
    {
     "name": "stdout",
     "output_type": "stream",
     "text": [
      "Optimization success\n",
      "Анимированный GIF сохранен как candidate_0.gif.\n",
      "Optimization failed\n"
     ]
    },
    {
     "name": "stderr",
     "output_type": "stream",
     "text": [
      "C:\\Users\\zhugeo\\AppData\\Roaming\\Python\\Python312\\site-packages\\scipy\\optimize\\_numdiff.py:592: RuntimeWarning: invalid value encountered in subtract\n",
      "  df = fun(x1) - f0\n"
     ]
    },
    {
     "name": "stdout",
     "output_type": "stream",
     "text": [
      "Optimization success\n",
      "Анимированный GIF сохранен как candidate_2.gif.\n",
      "Optimization success\n",
      "Анимированный GIF сохранен как candidate_3.gif.\n",
      "Optimization failed\n"
     ]
    }
   ],
   "source": [
    "def objective_function(x):\n",
    "    # Создаём параметры симуляции\n",
    "    params = SimulationParams()\n",
    "    params.AB_length = x[0]\n",
    "    params.DC_length = x[1]\n",
    "    params.BC_length = x[2]\n",
    "    params.DA_x = x[3]\n",
    "    params.DA_y = x[4]\n",
    "    params.BCE_inner_angle = x[5]  # радиан\n",
    "    params.CE_length = x[6]\n",
    "    params.alpha_angle = x[7]  # радиан\n",
    "\n",
    "    try:\n",
    "        # Проводим симуляцию\n",
    "        X, Y = sim(params)\n",
    "\n",
    "        # Вычисляем целевую функцию\n",
    "        obj = targetFunction(Y[:, 5])\n",
    "    except:\n",
    "        obj = np.inf\n",
    "    return obj\n",
    "\n",
    "\n",
    "def optimize_function(bounds):\n",
    "    for i in range(5):\n",
    "        # Начальная точка для оптимизации\n",
    "        initial_guess = np.zeros(len(bounds))\n",
    "        for j in range(len(bounds)):\n",
    "            initial_guess[j] = random.uniform(*bounds[j])\n",
    "\n",
    "        # Оптимизация\n",
    "        result = minimize(objective_function, initial_guess, bounds=bounds)\n",
    "\n",
    "        # Проверка на успех\n",
    "        if result.success:\n",
    "            params = SimulationParams()\n",
    "            params.AB_length = result.x[0]\n",
    "            params.DC_length = result.x[1]\n",
    "            params.BC_length = result.x[2]\n",
    "            params.DA_x = result.x[3]\n",
    "            params.DA_y = result.x[4]\n",
    "            params.BCE_inner_angle = result.x[5]  # радиан\n",
    "            params.CE_length = result.x[6]\n",
    "            params.alpha_angle = result.x[7]  # радиан\n",
    "            X, Y = sim(params)\n",
    "            print(\"Optimization success\")\n",
    "            create_animated_gif(\n",
    "                X,\n",
    "                Y,\n",
    "                [0, 1, 2, 2, 4],\n",
    "                [1, 2, 3, 4, 5],\n",
    "                f\"candidate_{i}.gif\",\n",
    "                3000,\n",
    "                text=f\"T={result.fun} |AB|={params.AB_length} |DC| |BC|\\n\\\n",
    "                    |CE|={params.CE_length} DA_x={params.DA_x} \\\n",
    "                    DA_y={params.DA_y} BCE={params.BCE_inner_angle}rad alpha={params.alpha_angle}rad\",\n",
    "            )\n",
    "        else:\n",
    "            print(\"Optimization failed\")\n",
    "\n",
    "\n",
    "bounds = [\n",
    "    (0, 50),\n",
    "    (0, 300),\n",
    "    (0, 300),\n",
    "    (-300, 300),\n",
    "    (0, 300),\n",
    "    (-math.pi / 2, math.pi / 2),\n",
    "    (-math.pi / 2, 300),\n",
    "    (0, math.pi / 2),\n",
    "]  # Пределы для x1 и x2\n",
    "optimize_function(bounds)"
   ]
  }
 ],
 "metadata": {
  "kernelspec": {
   "display_name": "Python 3",
   "language": "python",
   "name": "python3"
  },
  "language_info": {
   "codemirror_mode": {
    "name": "ipython",
    "version": 3
   },
   "file_extension": ".py",
   "mimetype": "text/x-python",
   "name": "python",
   "nbconvert_exporter": "python",
   "pygments_lexer": "ipython3",
   "version": "3.12.6"
  }
 },
 "nbformat": 4,
 "nbformat_minor": 2
}
