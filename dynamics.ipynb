{
 "cells": [
  {
   "cell_type": "markdown",
   "metadata": {},
   "source": [
    "### Расчёты для динамического анализа\n",
    "\n",
    "Здесь формируем матрицу СЛАУ, которая будет решаться"
   ]
  },
  {
   "cell_type": "code",
   "execution_count": 20,
   "metadata": {},
   "outputs": [],
   "source": [
    "from sympy import *\n"
   ]
  },
  {
   "cell_type": "code",
   "execution_count": 21,
   "metadata": {},
   "outputs": [],
   "source": [
    "(\n",
    "    F_10_x,\n",
    "    F_10_y,\n",
    "    F_30_x,\n",
    "    F_30_y,\n",
    "    F_50_x,\n",
    "    F_50_y,\n",
    "    F_12_x,\n",
    "    F_12_y,\n",
    "    F_21_x,\n",
    "    F_21_y,\n",
    "    F_23_x,\n",
    "    F_23_y,\n",
    "    F_32_x,\n",
    "    F_32_y,\n",
    "    F_24_x,\n",
    "    F_24_y,\n",
    "    F_42_x,\n",
    "    F_42_y,\n",
    "    F_45_x,\n",
    "    F_45_y,\n",
    "    F_54_x,\n",
    "    F_54_y,\n",
    "    A_x,\n",
    "    A_y,\n",
    "    B_x,\n",
    "    B_y,\n",
    "    C_x,\n",
    "    C_y,\n",
    "    D_x,\n",
    "    D_y,\n",
    "    E_x,\n",
    "    E_y,\n",
    "    F_x,\n",
    "    F_y,\n",
    "    G_x,\n",
    "    G_y,\n",
    ") = symbols(\n",
    "    \"F_10_x F_10_y F_30_x F_30_y F_50_x F_50_y F_12_x F_12_y F_21_x F_21_y F_23_x F_23_y F_32_x F_32_y F_24_x F_24_y F_42_x F_42_y F_45_x F_45_y F_54_x F_54_y A_x A_y B_x B_y C_x C_y D_x D_y E_x E_y F_x F_y G_x G_y\"\n",
    ")\n",
    "\n",
    "F_t, phi, mu, g, a_y, M_50 = symbols(\"F_t \\\\varphi \\\\mu g a_y M_50\")"
   ]
  },
  {
   "cell_type": "code",
   "execution_count": 22,
   "metadata": {},
   "outputs": [],
   "source": [
    "equations = [\n",
    "    Eq(F_10_x + F_12_x + F_t * sin(phi), 0),\n",
    "    Eq(F_10_y + F_12_y - F_t * cos(phi), 0),\n",
    "    Eq(\n",
    "        A_x * F_10_y\n",
    "        - A_y * F_10_x\n",
    "        + B_x * F_12_y\n",
    "        - B_y * F_12_x\n",
    "        + B_x * (-F_t * cos(phi))\n",
    "        - B_y * F_t * sin(phi),\n",
    "        0,\n",
    "    ),\n",
    "    Eq(F_21_x + F_23_x + F_24_x, 0),\n",
    "    Eq(F_21_y + F_23_y + F_24_y, 0),\n",
    "    Eq(\n",
    "        B_x * F_21_y\n",
    "        - B_y * F_21_x\n",
    "        + C_x * F_23_y\n",
    "        - C_y * F_23_x\n",
    "        + E_x * F_24_y\n",
    "        - E_y * F_24_x,\n",
    "        0,\n",
    "    ),\n",
    "    Eq(F_30_x + F_32_x, 0),\n",
    "    Eq(F_30_y + F_32_y, 0),\n",
    "    Eq(C_x * F_32_y - C_y * F_32_x + D_x * F_30_y - D_y * F_30_x, 0),\n",
    "    Eq(F_42_x + F_45_x, 0),\n",
    "    Eq(F_42_y + F_45_y, 0),\n",
    "    Eq(E_x * F_42_y - E_y * F_42_x + F_x * F_45_y - F_y * F_45_x, 0),\n",
    "    Eq(F_54_x + F_50_x, 0),\n",
    "    Eq(F_54_y - mu * g, mu * a_y),\n",
    "    Eq(F_x * F_54_y - F_y * F_54_x - G_y * F_50_x + G_x * mu * g + M_50, 0),\n",
    "    Eq(F_12_x, -F_21_x),\n",
    "    Eq(F_12_y, -F_21_y),\n",
    "    Eq(F_32_x, -F_23_x),\n",
    "    Eq(F_32_y, -F_23_y),\n",
    "    Eq(F_42_x, -F_24_x),\n",
    "    Eq(F_42_y, -F_24_y),\n",
    "    Eq(F_45_x, -F_54_x),\n",
    "    Eq(F_45_y, -F_54_y),\n",
    "]\n",
    "variables = [\n",
    "    F_10_x,\n",
    "    F_10_y,\n",
    "    F_12_x,\n",
    "    F_12_y,\n",
    "    F_21_x,\n",
    "    F_21_y,\n",
    "    F_23_x,\n",
    "    F_23_y,\n",
    "    F_24_x,\n",
    "    F_24_y,\n",
    "    F_30_x,\n",
    "    F_30_y,\n",
    "    F_32_x,\n",
    "    F_32_y,\n",
    "    F_42_x,\n",
    "    F_42_y,\n",
    "    F_45_x,\n",
    "    F_45_y,\n",
    "    F_54_x,\n",
    "    F_54_y,\n",
    "    F_50_x,\n",
    "    M_50,\n",
    "    F_t,\n",
    "]"
   ]
  },
  {
   "cell_type": "code",
   "execution_count": 23,
   "metadata": {},
   "outputs": [
    {
     "data": {
      "text/latex": [
       "$\\displaystyle F_{10 x} + F_{12 x} + F_{t} \\sin{\\left(\\varphi \\right)} = 0$"
      ],
      "text/plain": [
       "Eq(F_10_x + F_12_x + F_t*sin(\\varphi), 0)"
      ]
     },
     "metadata": {},
     "output_type": "display_data"
    },
    {
     "data": {
      "text/latex": [
       "$\\displaystyle F_{10 y} + F_{12 y} - F_{t} \\cos{\\left(\\varphi \\right)} = 0$"
      ],
      "text/plain": [
       "Eq(F_10_y + F_12_y - F_t*cos(\\varphi), 0)"
      ]
     },
     "metadata": {},
     "output_type": "display_data"
    },
    {
     "data": {
      "text/latex": [
       "$\\displaystyle A_{x} F_{10 y} - A_{y} F_{10 x} + B_{x} F_{12 y} - B_{x} F_{t} \\cos{\\left(\\varphi \\right)} - B_{y} F_{12 x} - B_{y} F_{t} \\sin{\\left(\\varphi \\right)} = 0$"
      ],
      "text/plain": [
       "Eq(A_x*F_10_y - A_y*F_10_x + B_x*F_12_y - B_x*F_t*cos(\\varphi) - B_y*F_12_x - B_y*F_t*sin(\\varphi), 0)"
      ]
     },
     "metadata": {},
     "output_type": "display_data"
    },
    {
     "data": {
      "text/latex": [
       "$\\displaystyle F_{21 x} + F_{23 x} + F_{24 x} = 0$"
      ],
      "text/plain": [
       "Eq(F_21_x + F_23_x + F_24_x, 0)"
      ]
     },
     "metadata": {},
     "output_type": "display_data"
    },
    {
     "data": {
      "text/latex": [
       "$\\displaystyle F_{21 y} + F_{23 y} + F_{24 y} = 0$"
      ],
      "text/plain": [
       "Eq(F_21_y + F_23_y + F_24_y, 0)"
      ]
     },
     "metadata": {},
     "output_type": "display_data"
    },
    {
     "data": {
      "text/latex": [
       "$\\displaystyle B_{x} F_{21 y} - B_{y} F_{21 x} + C_{x} F_{23 y} - C_{y} F_{23 x} + E_{x} F_{24 y} - E_{y} F_{24 x} = 0$"
      ],
      "text/plain": [
       "Eq(B_x*F_21_y - B_y*F_21_x + C_x*F_23_y - C_y*F_23_x + E_x*F_24_y - E_y*F_24_x, 0)"
      ]
     },
     "metadata": {},
     "output_type": "display_data"
    },
    {
     "data": {
      "text/latex": [
       "$\\displaystyle F_{30 x} + F_{32 x} = 0$"
      ],
      "text/plain": [
       "Eq(F_30_x + F_32_x, 0)"
      ]
     },
     "metadata": {},
     "output_type": "display_data"
    },
    {
     "data": {
      "text/latex": [
       "$\\displaystyle F_{30 y} + F_{32 y} = 0$"
      ],
      "text/plain": [
       "Eq(F_30_y + F_32_y, 0)"
      ]
     },
     "metadata": {},
     "output_type": "display_data"
    },
    {
     "data": {
      "text/latex": [
       "$\\displaystyle C_{x} F_{32 y} - C_{y} F_{32 x} + D_{x} F_{30 y} - D_{y} F_{30 x} = 0$"
      ],
      "text/plain": [
       "Eq(C_x*F_32_y - C_y*F_32_x + D_x*F_30_y - D_y*F_30_x, 0)"
      ]
     },
     "metadata": {},
     "output_type": "display_data"
    },
    {
     "data": {
      "text/latex": [
       "$\\displaystyle F_{42 x} + F_{45 x} = 0$"
      ],
      "text/plain": [
       "Eq(F_42_x + F_45_x, 0)"
      ]
     },
     "metadata": {},
     "output_type": "display_data"
    },
    {
     "data": {
      "text/latex": [
       "$\\displaystyle F_{42 y} + F_{45 y} = 0$"
      ],
      "text/plain": [
       "Eq(F_42_y + F_45_y, 0)"
      ]
     },
     "metadata": {},
     "output_type": "display_data"
    },
    {
     "data": {
      "text/latex": [
       "$\\displaystyle E_{x} F_{42 y} - E_{y} F_{42 x} - F_{45 x} F_{y} + F_{45 y} F_{x} = 0$"
      ],
      "text/plain": [
       "Eq(E_x*F_42_y - E_y*F_42_x - F_45_x*F_y + F_45_y*F_x, 0)"
      ]
     },
     "metadata": {},
     "output_type": "display_data"
    },
    {
     "data": {
      "text/latex": [
       "$\\displaystyle F_{50 x} + F_{54 x} = 0$"
      ],
      "text/plain": [
       "Eq(F_50_x + F_54_x, 0)"
      ]
     },
     "metadata": {},
     "output_type": "display_data"
    },
    {
     "data": {
      "text/latex": [
       "$\\displaystyle F_{54 y} - \\mu g = \\mu a_{y}$"
      ],
      "text/plain": [
       "Eq(F_54_y - \\mu*g, \\mu*a_y)"
      ]
     },
     "metadata": {},
     "output_type": "display_data"
    },
    {
     "data": {
      "text/latex": [
       "$\\displaystyle - F_{50 x} G_{y} - F_{54 x} F_{y} + F_{54 y} F_{x} + G_{x} \\mu g + M_{50} = 0$"
      ],
      "text/plain": [
       "Eq(-F_50_x*G_y - F_54_x*F_y + F_54_y*F_x + G_x*\\mu*g + M_50, 0)"
      ]
     },
     "metadata": {},
     "output_type": "display_data"
    },
    {
     "data": {
      "text/latex": [
       "$\\displaystyle F_{12 x} = - F_{21 x}$"
      ],
      "text/plain": [
       "Eq(F_12_x, -F_21_x)"
      ]
     },
     "metadata": {},
     "output_type": "display_data"
    },
    {
     "data": {
      "text/latex": [
       "$\\displaystyle F_{12 y} = - F_{21 y}$"
      ],
      "text/plain": [
       "Eq(F_12_y, -F_21_y)"
      ]
     },
     "metadata": {},
     "output_type": "display_data"
    },
    {
     "data": {
      "text/latex": [
       "$\\displaystyle F_{32 x} = - F_{23 x}$"
      ],
      "text/plain": [
       "Eq(F_32_x, -F_23_x)"
      ]
     },
     "metadata": {},
     "output_type": "display_data"
    },
    {
     "data": {
      "text/latex": [
       "$\\displaystyle F_{32 y} = - F_{23 y}$"
      ],
      "text/plain": [
       "Eq(F_32_y, -F_23_y)"
      ]
     },
     "metadata": {},
     "output_type": "display_data"
    },
    {
     "data": {
      "text/latex": [
       "$\\displaystyle F_{42 x} = - F_{24 x}$"
      ],
      "text/plain": [
       "Eq(F_42_x, -F_24_x)"
      ]
     },
     "metadata": {},
     "output_type": "display_data"
    },
    {
     "data": {
      "text/latex": [
       "$\\displaystyle F_{42 y} = - F_{24 y}$"
      ],
      "text/plain": [
       "Eq(F_42_y, -F_24_y)"
      ]
     },
     "metadata": {},
     "output_type": "display_data"
    },
    {
     "data": {
      "text/latex": [
       "$\\displaystyle F_{45 x} = - F_{54 x}$"
      ],
      "text/plain": [
       "Eq(F_45_x, -F_54_x)"
      ]
     },
     "metadata": {},
     "output_type": "display_data"
    },
    {
     "data": {
      "text/latex": [
       "$\\displaystyle F_{45 y} = - F_{54 y}$"
      ],
      "text/plain": [
       "Eq(F_45_y, -F_54_y)"
      ]
     },
     "metadata": {},
     "output_type": "display_data"
    }
   ],
   "source": [
    "for eq in equations:\n",
    "    display(eq)"
   ]
  },
  {
   "cell_type": "code",
   "execution_count": 24,
   "metadata": {},
   "outputs": [
    {
     "data": {
      "text/latex": [
       "$\\displaystyle \\left[\\begin{array}{ccccccccccccccccccccccc}1 & 0 & 1 & 0 & 0 & 0 & 0 & 0 & 0 & 0 & 0 & 0 & 0 & 0 & 0 & 0 & 0 & 0 & 0 & 0 & 0 & 0 & \\sin{\\left(\\varphi \\right)}\\\\0 & 1 & 0 & 1 & 0 & 0 & 0 & 0 & 0 & 0 & 0 & 0 & 0 & 0 & 0 & 0 & 0 & 0 & 0 & 0 & 0 & 0 & - \\cos{\\left(\\varphi \\right)}\\\\- A_{y} & A_{x} & - B_{y} & B_{x} & 0 & 0 & 0 & 0 & 0 & 0 & 0 & 0 & 0 & 0 & 0 & 0 & 0 & 0 & 0 & 0 & 0 & 0 & - B_{x} \\cos{\\left(\\varphi \\right)} - B_{y} \\sin{\\left(\\varphi \\right)}\\\\0 & 0 & 0 & 0 & 1 & 0 & 1 & 0 & 1 & 0 & 0 & 0 & 0 & 0 & 0 & 0 & 0 & 0 & 0 & 0 & 0 & 0 & 0\\\\0 & 0 & 0 & 0 & 0 & 1 & 0 & 1 & 0 & 1 & 0 & 0 & 0 & 0 & 0 & 0 & 0 & 0 & 0 & 0 & 0 & 0 & 0\\\\0 & 0 & 0 & 0 & - B_{y} & B_{x} & - C_{y} & C_{x} & - E_{y} & E_{x} & 0 & 0 & 0 & 0 & 0 & 0 & 0 & 0 & 0 & 0 & 0 & 0 & 0\\\\0 & 0 & 0 & 0 & 0 & 0 & 0 & 0 & 0 & 0 & 1 & 0 & 1 & 0 & 0 & 0 & 0 & 0 & 0 & 0 & 0 & 0 & 0\\\\0 & 0 & 0 & 0 & 0 & 0 & 0 & 0 & 0 & 0 & 0 & 1 & 0 & 1 & 0 & 0 & 0 & 0 & 0 & 0 & 0 & 0 & 0\\\\0 & 0 & 0 & 0 & 0 & 0 & 0 & 0 & 0 & 0 & - D_{y} & D_{x} & - C_{y} & C_{x} & 0 & 0 & 0 & 0 & 0 & 0 & 0 & 0 & 0\\\\0 & 0 & 0 & 0 & 0 & 0 & 0 & 0 & 0 & 0 & 0 & 0 & 0 & 0 & 1 & 0 & 1 & 0 & 0 & 0 & 0 & 0 & 0\\\\0 & 0 & 0 & 0 & 0 & 0 & 0 & 0 & 0 & 0 & 0 & 0 & 0 & 0 & 0 & 1 & 0 & 1 & 0 & 0 & 0 & 0 & 0\\\\0 & 0 & 0 & 0 & 0 & 0 & 0 & 0 & 0 & 0 & 0 & 0 & 0 & 0 & - E_{y} & E_{x} & - F_{y} & F_{x} & 0 & 0 & 0 & 0 & 0\\\\0 & 0 & 0 & 0 & 0 & 0 & 0 & 0 & 0 & 0 & 0 & 0 & 0 & 0 & 0 & 0 & 0 & 0 & 1 & 0 & 1 & 0 & 0\\\\0 & 0 & 0 & 0 & 0 & 0 & 0 & 0 & 0 & 0 & 0 & 0 & 0 & 0 & 0 & 0 & 0 & 0 & 0 & 1 & 0 & 0 & 0\\\\0 & 0 & 0 & 0 & 0 & 0 & 0 & 0 & 0 & 0 & 0 & 0 & 0 & 0 & 0 & 0 & 0 & 0 & - F_{y} & F_{x} & - G_{y} & 1 & 0\\\\0 & 0 & 1 & 0 & 1 & 0 & 0 & 0 & 0 & 0 & 0 & 0 & 0 & 0 & 0 & 0 & 0 & 0 & 0 & 0 & 0 & 0 & 0\\\\0 & 0 & 0 & 1 & 0 & 1 & 0 & 0 & 0 & 0 & 0 & 0 & 0 & 0 & 0 & 0 & 0 & 0 & 0 & 0 & 0 & 0 & 0\\\\0 & 0 & 0 & 0 & 0 & 0 & 1 & 0 & 0 & 0 & 0 & 0 & 1 & 0 & 0 & 0 & 0 & 0 & 0 & 0 & 0 & 0 & 0\\\\0 & 0 & 0 & 0 & 0 & 0 & 0 & 1 & 0 & 0 & 0 & 0 & 0 & 1 & 0 & 0 & 0 & 0 & 0 & 0 & 0 & 0 & 0\\\\0 & 0 & 0 & 0 & 0 & 0 & 0 & 0 & 1 & 0 & 0 & 0 & 0 & 0 & 1 & 0 & 0 & 0 & 0 & 0 & 0 & 0 & 0\\\\0 & 0 & 0 & 0 & 0 & 0 & 0 & 0 & 0 & 1 & 0 & 0 & 0 & 0 & 0 & 1 & 0 & 0 & 0 & 0 & 0 & 0 & 0\\\\0 & 0 & 0 & 0 & 0 & 0 & 0 & 0 & 0 & 0 & 0 & 0 & 0 & 0 & 0 & 0 & 1 & 0 & 1 & 0 & 0 & 0 & 0\\\\0 & 0 & 0 & 0 & 0 & 0 & 0 & 0 & 0 & 0 & 0 & 0 & 0 & 0 & 0 & 0 & 0 & 1 & 0 & 1 & 0 & 0 & 0\\end{array}\\right]$"
      ],
      "text/plain": [
       "Matrix([\n",
       "[   1,   0,    1,   0,    0,   0,    0,   0,    0,   0,    0,   0,    0,   0,    0,   0,    0,   0,    0,   0,    0, 0,                         sin(\\varphi)],\n",
       "[   0,   1,    0,   1,    0,   0,    0,   0,    0,   0,    0,   0,    0,   0,    0,   0,    0,   0,    0,   0,    0, 0,                        -cos(\\varphi)],\n",
       "[-A_y, A_x, -B_y, B_x,    0,   0,    0,   0,    0,   0,    0,   0,    0,   0,    0,   0,    0,   0,    0,   0,    0, 0, -B_x*cos(\\varphi) - B_y*sin(\\varphi)],\n",
       "[   0,   0,    0,   0,    1,   0,    1,   0,    1,   0,    0,   0,    0,   0,    0,   0,    0,   0,    0,   0,    0, 0,                                    0],\n",
       "[   0,   0,    0,   0,    0,   1,    0,   1,    0,   1,    0,   0,    0,   0,    0,   0,    0,   0,    0,   0,    0, 0,                                    0],\n",
       "[   0,   0,    0,   0, -B_y, B_x, -C_y, C_x, -E_y, E_x,    0,   0,    0,   0,    0,   0,    0,   0,    0,   0,    0, 0,                                    0],\n",
       "[   0,   0,    0,   0,    0,   0,    0,   0,    0,   0,    1,   0,    1,   0,    0,   0,    0,   0,    0,   0,    0, 0,                                    0],\n",
       "[   0,   0,    0,   0,    0,   0,    0,   0,    0,   0,    0,   1,    0,   1,    0,   0,    0,   0,    0,   0,    0, 0,                                    0],\n",
       "[   0,   0,    0,   0,    0,   0,    0,   0,    0,   0, -D_y, D_x, -C_y, C_x,    0,   0,    0,   0,    0,   0,    0, 0,                                    0],\n",
       "[   0,   0,    0,   0,    0,   0,    0,   0,    0,   0,    0,   0,    0,   0,    1,   0,    1,   0,    0,   0,    0, 0,                                    0],\n",
       "[   0,   0,    0,   0,    0,   0,    0,   0,    0,   0,    0,   0,    0,   0,    0,   1,    0,   1,    0,   0,    0, 0,                                    0],\n",
       "[   0,   0,    0,   0,    0,   0,    0,   0,    0,   0,    0,   0,    0,   0, -E_y, E_x, -F_y, F_x,    0,   0,    0, 0,                                    0],\n",
       "[   0,   0,    0,   0,    0,   0,    0,   0,    0,   0,    0,   0,    0,   0,    0,   0,    0,   0,    1,   0,    1, 0,                                    0],\n",
       "[   0,   0,    0,   0,    0,   0,    0,   0,    0,   0,    0,   0,    0,   0,    0,   0,    0,   0,    0,   1,    0, 0,                                    0],\n",
       "[   0,   0,    0,   0,    0,   0,    0,   0,    0,   0,    0,   0,    0,   0,    0,   0,    0,   0, -F_y, F_x, -G_y, 1,                                    0],\n",
       "[   0,   0,    1,   0,    1,   0,    0,   0,    0,   0,    0,   0,    0,   0,    0,   0,    0,   0,    0,   0,    0, 0,                                    0],\n",
       "[   0,   0,    0,   1,    0,   1,    0,   0,    0,   0,    0,   0,    0,   0,    0,   0,    0,   0,    0,   0,    0, 0,                                    0],\n",
       "[   0,   0,    0,   0,    0,   0,    1,   0,    0,   0,    0,   0,    1,   0,    0,   0,    0,   0,    0,   0,    0, 0,                                    0],\n",
       "[   0,   0,    0,   0,    0,   0,    0,   1,    0,   0,    0,   0,    0,   1,    0,   0,    0,   0,    0,   0,    0, 0,                                    0],\n",
       "[   0,   0,    0,   0,    0,   0,    0,   0,    1,   0,    0,   0,    0,   0,    1,   0,    0,   0,    0,   0,    0, 0,                                    0],\n",
       "[   0,   0,    0,   0,    0,   0,    0,   0,    0,   1,    0,   0,    0,   0,    0,   1,    0,   0,    0,   0,    0, 0,                                    0],\n",
       "[   0,   0,    0,   0,    0,   0,    0,   0,    0,   0,    0,   0,    0,   0,    0,   0,    1,   0,    1,   0,    0, 0,                                    0],\n",
       "[   0,   0,    0,   0,    0,   0,    0,   0,    0,   0,    0,   0,    0,   0,    0,   0,    0,   1,    0,   1,    0, 0,                                    0]])"
      ]
     },
     "metadata": {},
     "output_type": "display_data"
    },
    {
     "data": {
      "text/latex": [
       "$\\displaystyle \\left[\\begin{matrix}0\\\\0\\\\0\\\\0\\\\0\\\\0\\\\0\\\\0\\\\0\\\\0\\\\0\\\\0\\\\0\\\\\\mu a_{y} + \\mu g\\\\- G_{x} \\mu g\\\\0\\\\0\\\\0\\\\0\\\\0\\\\0\\\\0\\\\0\\end{matrix}\\right]$"
      ],
      "text/plain": [
       "Matrix([\n",
       "[              0],\n",
       "[              0],\n",
       "[              0],\n",
       "[              0],\n",
       "[              0],\n",
       "[              0],\n",
       "[              0],\n",
       "[              0],\n",
       "[              0],\n",
       "[              0],\n",
       "[              0],\n",
       "[              0],\n",
       "[              0],\n",
       "[\\mu*a_y + \\mu*g],\n",
       "[     -G_x*\\mu*g],\n",
       "[              0],\n",
       "[              0],\n",
       "[              0],\n",
       "[              0],\n",
       "[              0],\n",
       "[              0],\n",
       "[              0],\n",
       "[              0]])"
      ]
     },
     "metadata": {},
     "output_type": "display_data"
    }
   ],
   "source": [
    "mat,vec=linear_eq_to_matrix(equations,variables)\n",
    "display(mat)\n",
    "display(vec)"
   ]
  }
 ],
 "metadata": {
  "kernelspec": {
   "display_name": "Python 3",
   "language": "python",
   "name": "python3"
  },
  "language_info": {
   "codemirror_mode": {
    "name": "ipython",
    "version": 3
   },
   "file_extension": ".py",
   "mimetype": "text/x-python",
   "name": "python",
   "nbconvert_exporter": "python",
   "pygments_lexer": "ipython3",
   "version": "3.12.6"
  }
 },
 "nbformat": 4,
 "nbformat_minor": 2
}
