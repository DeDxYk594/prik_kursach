{
 "cells": [
  {
   "cell_type": "code",
   "execution_count": 2,
   "metadata": {},
   "outputs": [],
   "source": [
    "%load_ext autoreload\n",
    "%autoreload 2\n",
    "\n",
    "import numpy as np\n",
    "\n",
    "from variants import RevolutePairPress, PrismaticPairPress\n",
    "from optimization import optimize_function"
   ]
  },
  {
   "cell_type": "markdown",
   "metadata": {},
   "source": [
    "Проверим работу симуляции: правильно ли она проходит?\n",
    "\n",
    "Результат должен выдать в файлы `/tests_Prismatic.gif` и `/tests_Revolute.gif`\n"
   ]
  },
  {
   "cell_type": "code",
   "execution_count": 3,
   "metadata": {},
   "outputs": [
    {
     "name": "stdout",
     "output_type": "stream",
     "text": [
      "Анимированный GIF сохранен как tests_Revolute.gif.\n",
      "Анимированный GIF сохранен как tests_Prismatic.gif.\n"
     ]
    }
   ],
   "source": [
    "params_Revolute = np.zeros(9)\n",
    "params_Revolute[0] = 3.0\n",
    "params_Revolute[1] = 6.3\n",
    "params_Revolute[2] = 5.4\n",
    "params_Revolute[3] = 5.1\n",
    "params_Revolute[4] = 4.5\n",
    "params_Revolute[5] = -1\n",
    "params_Revolute[6] = 8\n",
    "params_Revolute[7] = 0.5\n",
    "params_Revolute[8] = -30\n",
    "RevolutePairPress.generateGif(params_Revolute, \"tests_Revolute.gif\")\n",
    "\n",
    "\n",
    "params_Prismatic = np.zeros(8)\n",
    "params_Prismatic[0] = 1.1\n",
    "params_Prismatic[1] = 3.2\n",
    "params_Prismatic[2] = 2.2\n",
    "params_Prismatic[3] = 1.0\n",
    "params_Prismatic[4] = 0.0\n",
    "params_Prismatic[5] = 3.0\n",
    "params_Prismatic[6] = 30.0\n",
    "params_Prismatic[7] = -12.0\n",
    "\n",
    "PrismaticPairPress.generateGif(params_Prismatic, \"tests_Prismatic.gif\")"
   ]
  },
  {
   "cell_type": "markdown",
   "metadata": {},
   "source": [
    "Проверим производительность вычислений"
   ]
  },
  {
   "cell_type": "code",
   "execution_count": 4,
   "metadata": {},
   "outputs": [
    {
     "name": "stdout",
     "output_type": "stream",
     "text": [
      "22.2 μs ± 571 ns per loop (mean ± std. dev. of 7 runs, 10,000 loops each)\n",
      "26.2 μs ± 909 ns per loop (mean ± std. dev. of 7 runs, 10,000 loops each)\n"
     ]
    }
   ],
   "source": [
    "%timeit RevolutePairPress.simulate(params_Revolute,360)\n",
    "%timeit PrismaticPairPress.simulate(params_Prismatic,360)"
   ]
  },
  {
   "cell_type": "markdown",
   "metadata": {},
   "source": [
    "### Метрический синтез\n",
    "\n",
    "Найти 1000 кандидатов на основе функции оптимизации\n",
    "\n",
    "ОСТОРОЖНО! Оптимизация долгая\n",
    "\n",
    "Сохраняются как `candidate_{i}.gif`"
   ]
  },
  {
   "cell_type": "code",
   "execution_count": null,
   "metadata": {},
   "outputs": [],
   "source": [
    "mechanism = RevolutePairPress\n",
    "for i in range(1000):\n",
    "    description, pp = optimize_function(mechanism)\n",
    "    print(description, pp)\n",
    "    mechanism.generateGif(pp, f\"candidate_{i}_Revolute.gif\")"
   ]
  },
  {
   "cell_type": "markdown",
   "metadata": {},
   "source": [
    "В результате оптимизации получен лучший вариант: `RevolutePairPress` с параметрами, которые приведены ниже в коде. Проведём симуляцию для этого варианта и сохраним множество точек в файл, чтобы передать его программе динамического расчёта"
   ]
  },
  {
   "cell_type": "code",
   "execution_count": 12,
   "metadata": {},
   "outputs": [
    {
     "name": "stdout",
     "output_type": "stream",
     "text": [
      "Анимированный GIF сохранен как bestCandidate.gif.\n",
      "Результат симуляции сохранён в simulationResults.py!\n"
     ]
    }
   ],
   "source": [
    "# Округлено до более-менее ровных значений\n",
    "bestParams = np.array([103, 202, 250, 122, 221, 55, 225, 0, 80])\n",
    "\n",
    "RevolutePairPress.generateGif(bestParams, \"bestCandidate.gif\")\n",
    "\n",
    "simResult = RevolutePairPress.simulate(bestParams, 3600)\n",
    "\n",
    "with open(\"simulationResults.py\", \"w\", encoding=\"utf-8\") as f:\n",
    "    f.write(\"from numpy import array,ndarray\\n\\n\")\n",
    "    f.write(\"simulationResults:tuple[ndarray,ndarray] = (array(\")\n",
    "    f.write(repr(simResult[0].tolist()))\n",
    "    f.write(\"),array(\")\n",
    "    f.write(repr(simResult[1].tolist()))\n",
    "    f.write(\"))\")\n",
    "\n",
    "print(\"Результат симуляции сохранён в simulationResults.py!\")"
   ]
  }
 ],
 "metadata": {
  "kernelspec": {
   "display_name": "Python 3",
   "language": "python",
   "name": "python3"
  },
  "language_info": {
   "codemirror_mode": {
    "name": "ipython",
    "version": 3
   },
   "file_extension": ".py",
   "mimetype": "text/x-python",
   "name": "python",
   "nbconvert_exporter": "python",
   "pygments_lexer": "ipython3",
   "version": "3.12.6"
  }
 },
 "nbformat": 4,
 "nbformat_minor": 2
}
